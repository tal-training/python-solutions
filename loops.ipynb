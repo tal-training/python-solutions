{
 "cells": [
  {
   "cell_type": "markdown",
   "id": "13dc93c5",
   "metadata": {},
   "source": [
    "## Exercise 1"
   ]
  },
  {
   "cell_type": "code",
   "execution_count": 1,
   "id": "5a3b0522",
   "metadata": {},
   "outputs": [
    {
     "name": "stdout",
     "output_type": "stream",
     "text": [
      "enter num: 1\n",
      "enter num: 2\n",
      "enter num: 3\n",
      "enter num: 4\n",
      "enter num: 5\n",
      "enter num: 6\n",
      "enter num: 7\n",
      "enter num: 8\n",
      "enter num: 9\n",
      "enter num: 10\n",
      "6\n"
     ]
    }
   ],
   "source": [
    "sum=0\n",
    "for i in range(10):\n",
    "    sum+=int(input(\"enter num: \"))\n",
    "print(round(sum/10))"
   ]
  },
  {
   "cell_type": "markdown",
   "id": "cd25c219",
   "metadata": {},
   "source": [
    "## Exercise 2"
   ]
  },
  {
   "cell_type": "code",
   "execution_count": 5,
   "id": "ecb707ee",
   "metadata": {},
   "outputs": [
    {
     "name": "stdout",
     "output_type": "stream",
     "text": [
      "enter num: 1.2\n",
      "enter num: 1\n",
      "enter num: 1.3\n",
      "enter num: 1.4\n",
      "enter num: 2.1\n",
      "enter num: 1.1\n",
      "enter num: 1\n",
      "enter num: 1\n",
      "enter num: 1\n",
      "enter num: 0.9\n",
      "0.35\n"
     ]
    }
   ],
   "source": [
    "import statistics\n",
    "\n",
    "nums=[]\n",
    "for i in range(10):\n",
    "    nums.append(float(input(\"enter num: \")))\n",
    "print(round(statistics.stdev(nums),2))"
   ]
  },
  {
   "cell_type": "markdown",
   "id": "4f091f4e",
   "metadata": {},
   "source": [
    "## Exercise 3"
   ]
  },
  {
   "cell_type": "code",
   "execution_count": 11,
   "id": "73e6f872",
   "metadata": {},
   "outputs": [
    {
     "name": "stdout",
     "output_type": "stream",
     "text": [
      "enter num: 0\n",
      "enter num: 0\n",
      "enter num: 0\n",
      "enter num: 0\n",
      "enter num: 0\n",
      "enter num: 0\n",
      "enter num: 2\n",
      "enter num: 3\n",
      "enter num: 0\n",
      "enter num: 0\n",
      "2.0\n",
      "3.0\n"
     ]
    }
   ],
   "source": [
    "nums=[]\n",
    "for i in range(10):\n",
    "    num=float(input(\"enter num: \"))\n",
    "    if num!=0.0:\n",
    "        nums.append(num)\n",
    "    print(min(nums))\n",
    "print(max(nums))"
   ]
  }
 ],
 "metadata": {
  "kernelspec": {
   "display_name": "Python 3 (ipykernel)",
   "language": "python",
   "name": "python3"
  },
  "language_info": {
   "codemirror_mode": {
    "name": "ipython",
    "version": 3
   },
   "file_extension": ".py",
   "mimetype": "text/x-python",
   "name": "python",
   "nbconvert_exporter": "python",
   "pygments_lexer": "ipython3",
   "version": "3.10.4"
  }
 },
 "nbformat": 4,
 "nbformat_minor": 5
}
