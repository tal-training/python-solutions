{
 "cells": [
  {
   "cell_type": "code",
   "execution_count": 49,
   "id": "50955505",
   "metadata": {},
   "outputs": [
    {
     "name": "stdout",
     "output_type": "stream",
     "text": [
      "result dict 1\n",
      "records list 1\n",
      "fields list 2\n",
      "_links dict 3\n"
     ]
    }
   ],
   "source": [
    "import urllib\n",
    "import json\n",
    "\n",
    "r=urllib.request.urlopen('https://data.gov.il/api/3/action/datastore_search?resource_id=e83f763b-b7d7-479e-b172-ae981ddc6de5&limit=15')\n",
    "line=r.readlines()[0].decode()\n",
    "d=json.loads(line)\n",
    "d\n",
    "def analyze(d):\n",
    "    level=0\n",
    "    for k in d:\n",
    "        if type(d)==str:\n",
    "            print(level, k) \n",
    "            return d\n",
    "        if type(d[k]) == dict:\n",
    "            level+=1\n",
    "            print(k,\"dict\",level)\n",
    "            analyze(d[k])\n",
    "        if type(d[k]) == list:\n",
    "            level+=1\n",
    "            print(k,\"list\",level)\n",
    "            for i in d[k]:\n",
    "                analyze(i)\n",
    "                \n",
    "analyze(d)\n",
    "        "
   ]
  },
  {
   "cell_type": "code",
   "execution_count": 42,
   "id": "921e1c5f",
   "metadata": {
    "scrolled": true
   },
   "outputs": [
    {
     "data": {
      "text/plain": [
       "{'_id': 1,\n",
       " 'CHOPER': 'QAS',\n",
       " 'CHFLTN': '2NICE',\n",
       " 'CHOPERD': 'QUALITY AIR SERVICES',\n",
       " 'CHSTOL': '2022-06-17T00:05:00',\n",
       " 'CHPTOL': '2022-06-17T00:05:00',\n",
       " 'CHAORD': 'A',\n",
       " 'CHLOC1': 'IBZ',\n",
       " 'CHLOC1D': 'IBIZA',\n",
       " 'CHLOC1TH': 'איביזה',\n",
       " 'CHLOC1T': 'IBIZA',\n",
       " 'CHLOC1CH': 'ספרד',\n",
       " 'CHLOCCT': 'SPAIN',\n",
       " 'CHTERM': '3',\n",
       " 'CHCINT': '',\n",
       " 'CHCKZN': '',\n",
       " 'CHRMINE': 'CANCELED',\n",
       " 'CHRMINH': 'מבוטלת'}"
      ]
     },
     "execution_count": 42,
     "metadata": {},
     "output_type": "execute_result"
    }
   ],
   "source": [
    "d[\"result\"][\"records\"][0]"
   ]
  },
  {
   "cell_type": "code",
   "execution_count": 47,
   "id": "e0380771",
   "metadata": {},
   "outputs": [
    {
     "name": "stdout",
     "output_type": "stream",
     "text": [
      "{'CHOPER': 'QAS', 'CHOPERD': 'QUALITY AIR SERVICES', 'CHSTOL': '2022-06-17T00:05:00', 'CHLOC1TH': 'איביזה', 'CHLOC1CH': 'ספרד', 'CHTERM': '3', 'CHRMINH': 'מבוטלת'}\n",
      "{'CHOPER': '6H', 'CHOPERD': 'ISRAIR AIRLINES', 'CHSTOL': '2022-06-16T21:20:00', 'CHLOC1TH': 'בטומי', 'CHLOC1CH': 'גיאורגיה', 'CHTERM': '3', 'CHRMINH': 'נחתה'}\n",
      "{'CHOPER': 'LY', 'CHOPERD': 'EL AL ISRAEL AIRLINES', 'CHSTOL': '2022-06-16T23:30:00', 'CHLOC1TH': 'פוקט', 'CHLOC1CH': 'תאילנד', 'CHTERM': '3', 'CHRMINH': 'המריאה'}\n",
      "{'CHOPER': 'UA', 'CHOPERD': 'UNITED AIRLINES', 'CHSTOL': '2022-06-16T23:25:00', 'CHLOC1TH': 'ניוארק', 'CHLOC1CH': 'ארצות הברית', 'CHTERM': '3', 'CHRMINH': 'המריאה'}\n",
      "{'CHOPER': 'PC', 'CHOPERD': 'PEGASUS AIRLINES', 'CHSTOL': '2022-06-17T00:15:00', 'CHLOC1TH': 'איסטנבול', 'CHLOC1CH': 'טורקיה', 'CHTERM': '3', 'CHRMINH': 'נחתה'}\n",
      "{'CHOPER': 'DL', 'CHOPERD': 'DELTA AIRLINES', 'CHSTOL': '2022-06-16T23:55:00', 'CHLOC1TH': 'ניו יורק', 'CHLOC1CH': 'ארצות הברית', 'CHTERM': '3', 'CHRMINH': 'המריאה'}\n",
      "{'CHOPER': 'LH', 'CHOPERD': 'LUFTHANSA', 'CHSTOL': '2022-06-17T00:15:00', 'CHLOC1TH': 'מינכן', 'CHLOC1CH': 'גרמניה', 'CHTERM': '3', 'CHRMINH': 'נחתה'}\n",
      "{'CHOPER': 'IZ', 'CHOPERD': 'ARKIA  ISRAELI  AIRLINES', 'CHSTOL': '2022-06-17T00:50:00', 'CHLOC1TH': 'טביליסי', 'CHLOC1CH': 'גיאורגיה', 'CHTERM': '3', 'CHRMINH': 'נחתה'}\n",
      "{'CHOPER': '341', 'CHOPERD': 'חץ תעופה', 'CHSTOL': '2022-06-17T00:35:00', 'CHLOC1TH': 'פריס', 'CHLOC1CH': 'צרפת', 'CHTERM': '3', 'CHRMINH': 'מבוטלת'}\n",
      "{'CHOPER': 'LY', 'CHOPERD': 'EL AL ISRAEL AIRLINES', 'CHSTOL': '2022-06-17T00:40:00', 'CHLOC1TH': 'ניוארק', 'CHLOC1CH': 'ארצות הברית', 'CHTERM': '3', 'CHRMINH': 'נחתה'}\n",
      "{'CHOPER': 'AA', 'CHOPERD': 'AMERICAN AIRLINES', 'CHSTOL': '2022-06-17T00:40:00', 'CHLOC1TH': 'פרנקפורט', 'CHLOC1CH': 'גרמניה', 'CHTERM': '3', 'CHRMINH': 'מבוטלת'}\n",
      "{'CHOPER': 'ICL', 'CHOPERD': 'C.A.L ISRAELI CARGO', 'CHSTOL': '2022-06-17T00:40:00', 'CHLOC1TH': 'הונג-קונג', 'CHLOC1CH': 'סין', 'CHTERM': '3', 'CHRMINH': 'מבוטלת'}\n",
      "{'CHOPER': 'LY', 'CHOPERD': 'EL AL ISRAEL AIRLINES', 'CHSTOL': '2022-06-17T00:40:00', 'CHLOC1TH': 'מינכן', 'CHLOC1CH': 'גרמניה', 'CHTERM': '3', 'CHRMINH': 'מבוטלת'}\n",
      "{'CHOPER': 'LY', 'CHOPERD': 'EL AL ISRAEL AIRLINES', 'CHSTOL': '2022-06-17T00:40:00', 'CHLOC1TH': 'פרנקפורט', 'CHLOC1CH': 'גרמניה', 'CHTERM': '3', 'CHRMINH': 'מבוטלת'}\n",
      "{'CHOPER': 'QAS', 'CHOPERD': 'QUALITY AIR SERVICES', 'CHSTOL': '2022-06-16T00:05:00', 'CHLOC1TH': 'איביזה', 'CHLOC1CH': 'ספרד', 'CHTERM': '3', 'CHRMINH': 'נחתה'}\n"
     ]
    }
   ],
   "source": [
    "flights2=d[\"result\"][\"records\"] # list of dicts\n",
    "good_keys=[\"CHOPER\",'CHOPERD','CHSTOL','CHLOC1TH','CHLOC1CH','CHTERM','CHRMINH']\n",
    "for i in flights2:\n",
    "    nd={k:i[k] for k in good_keys}\n",
    "    print(nd)"
   ]
  },
  {
   "cell_type": "markdown",
   "id": "c6d1ca2c",
   "metadata": {},
   "source": [
    "סטטיסטיקות כמה איחורים, מתי עמוס וכו"
   ]
  }
 ],
 "metadata": {
  "kernelspec": {
   "display_name": "Python 3 (ipykernel)",
   "language": "python",
   "name": "python3"
  },
  "language_info": {
   "codemirror_mode": {
    "name": "ipython",
    "version": 3
   },
   "file_extension": ".py",
   "mimetype": "text/x-python",
   "name": "python",
   "nbconvert_exporter": "python",
   "pygments_lexer": "ipython3",
   "version": "3.10.4"
  }
 },
 "nbformat": 4,
 "nbformat_minor": 5
}
