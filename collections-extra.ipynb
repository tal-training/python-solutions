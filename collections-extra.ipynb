{
 "cells": [
  {
   "cell_type": "markdown",
   "id": "4fa87a31",
   "metadata": {},
   "source": [
    "## Exercise 1"
   ]
  },
  {
   "cell_type": "code",
   "execution_count": 5,
   "id": "e9e329fd",
   "metadata": {},
   "outputs": [
    {
     "name": "stdout",
     "output_type": "stream",
     "text": [
      "enter num: 1\n",
      "enter num: 2\n",
      "enter num: 3\n",
      "('1', '2', '3')\n"
     ]
    }
   ],
   "source": [
    "nums=()\n",
    "for i in range(3):\n",
    "    nums+=(input(\"enter num: \"),)\n",
    "print(nums)"
   ]
  },
  {
   "cell_type": "markdown",
   "id": "476ce913",
   "metadata": {},
   "source": [
    "## Exercise 2"
   ]
  },
  {
   "cell_type": "code",
   "execution_count": 19,
   "id": "c5fa8397",
   "metadata": {},
   "outputs": [
    {
     "name": "stdout",
     "output_type": "stream",
     "text": [
      "enter num: 1\n",
      "enter num: 2\n",
      "enter num: 3\n",
      "enter num: 4\n",
      "enter num: 5\n",
      "['5', '4', '3', '2', '1']\n"
     ]
    }
   ],
   "source": [
    "l=[]\n",
    "for i in range(5):\n",
    "    l.insert(0,input(\"enter num: \"))\n",
    "print(l)\n",
    "    "
   ]
  },
  {
   "cell_type": "markdown",
   "id": "3a3473ad",
   "metadata": {},
   "source": [
    "## Exercise 3"
   ]
  },
  {
   "cell_type": "code",
   "execution_count": 22,
   "id": "b9c20e5d",
   "metadata": {},
   "outputs": [
    {
     "name": "stdout",
     "output_type": "stream",
     "text": [
      "enter num: 1\n",
      "enter num: 2\n",
      "enter num: 3\n",
      "27\n"
     ]
    }
   ],
   "source": [
    "d=dict()\n",
    "for i in range(3):\n",
    "    n=input(\"enter num: \")\n",
    "    d[n]=pow(int(n),3)\n",
    "print(d[n])    \n"
   ]
  },
  {
   "cell_type": "markdown",
   "id": "64e7d6f7",
   "metadata": {},
   "source": [
    "## Dictionary Exercise: Address Book\n",
    "\n",
    "### Requirements:\n",
    "\n",
    "- Add new contact (name, phone number, email address). Operation requires admin login\n",
    "- Search contacts via name\n",
    "- Get contact via name or email address\n",
    "- list contacts\n",
    "- save contacts to shelve\n",
    "\n"
   ]
  },
  {
   "cell_type": "code",
   "execution_count": 29,
   "id": "45cb4202",
   "metadata": {},
   "outputs": [
    {
     "name": "stdout",
     "output_type": "stream",
     "text": [
      "\n",
      "Contacts App\n",
      "------------\n",
      "1. Add contact\n",
      "2. Search contacts\n",
      "3. Get contact\n",
      "4. List Contacts\n",
      "9. Exit\n",
      "\n",
      "3\n",
      "Existing Contact name? tal\n",
      "('tal', {'phone': '054-333333', 'email': 'tal@gmail.com'})\n",
      "\n",
      "Contacts App\n",
      "------------\n",
      "1. Add contact\n",
      "2. Search contacts\n",
      "3. Get contact\n",
      "4. List Contacts\n",
      "9. Exit\n",
      "\n",
      "9\n"
     ]
    }
   ],
   "source": [
    "import re\n",
    "import shelve\n",
    "\n",
    "db=shelve.open(\"contacts.db\")\n",
    "if \"contacts\" in db.keys():\n",
    "    contacts=db[\"contacts\"]\n",
    "else:\n",
    "    contacts=dict()\n",
    "    db[\"contacts\"]=contacts\n",
    "    \n",
    "userPasswords={\"admin\":\"abc123\"}\n",
    "\n",
    "menu=\"\"\"\n",
    "Contacts App\n",
    "------------\n",
    "1. Add contact\n",
    "2. Search contacts\n",
    "3. Get contact\n",
    "4. List Contacts\n",
    "9. Exit\n",
    "\"\"\"\n",
    "\n",
    "def login():\n",
    "    username, password=input(\"username? \"), input(\"password? \")\n",
    "    if username in userPasswords.keys() and userPasswords[username]==password:\n",
    "        return True\n",
    "    else:\n",
    "        return False\n",
    "\n",
    "def add(contact):\n",
    "    contacts.update(contact)\n",
    "    \n",
    "def search(name):\n",
    "    for k in contacts.keys():\n",
    "        if k.count(name)>=1:\n",
    "            return f\"{k}: {contacts.get(k)}\"\n",
    "\n",
    "def get(name):\n",
    "    if name in contacts.keys():\n",
    "        return name, contacts[name]\n",
    "    else:\n",
    "        return \"contact doesn't exist\"\n",
    "\n",
    "def list():\n",
    "    for c in contacts:\n",
    "        print(c)\n",
    "        \n",
    "def save(contacts):\n",
    "    db[\"contacts\"]=contacts\n",
    "\n",
    "while(True):\n",
    "    choice=input(menu+'\\r')\n",
    "    if choice=='1':\n",
    "        if login():\n",
    "            name=input(\"New Contact name? \")\n",
    "            phone=input(\"New Contact phone number? \")\n",
    "            email=input(\"New Contact email address? \")\n",
    "            contact={name:{\"phone\":phone, \"email\":email}}\n",
    "            add(contact)\n",
    "            save(contacts)\n",
    "        else:\n",
    "            print(\"unauthorized\")\n",
    "    if choice=='2':\n",
    "        q=input(\"Search: \")        \n",
    "        print(search(q))\n",
    "    if choice=='3':\n",
    "        name=input(\"Existing Contact name? \")\n",
    "        print(get(name))\n",
    "    if choice=='4':\n",
    "        list()\n",
    "    if choice=='9':\n",
    "        break\n",
    "    \n",
    "db.close()\n",
    "    \n",
    "    \n",
    "    \n",
    "    \n",
    "    "
   ]
  },
  {
   "cell_type": "code",
   "execution_count": 27,
   "id": "756c594f",
   "metadata": {},
   "outputs": [],
   "source": [
    "db.close()\n"
   ]
  }
 ],
 "metadata": {
  "kernelspec": {
   "display_name": "Python 3 (ipykernel)",
   "language": "python",
   "name": "python3"
  },
  "language_info": {
   "codemirror_mode": {
    "name": "ipython",
    "version": 3
   },
   "file_extension": ".py",
   "mimetype": "text/x-python",
   "name": "python",
   "nbconvert_exporter": "python",
   "pygments_lexer": "ipython3",
   "version": "3.10.4"
  }
 },
 "nbformat": 4,
 "nbformat_minor": 5
}
