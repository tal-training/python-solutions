{
 "cells": [
  {
   "cell_type": "markdown",
   "id": "4fa87a31",
   "metadata": {},
   "source": [
    "## Exercise 1"
   ]
  },
  {
   "cell_type": "code",
   "execution_count": 5,
   "id": "e9e329fd",
   "metadata": {},
   "outputs": [
    {
     "name": "stdout",
     "output_type": "stream",
     "text": [
      "enter num: 1\n",
      "enter num: 2\n",
      "enter num: 3\n",
      "('1', '2', '3')\n"
     ]
    }
   ],
   "source": [
    "nums=()\n",
    "for i in range(3):\n",
    "    nums+=(input(\"enter num: \"),)\n",
    "print(nums)"
   ]
  },
  {
   "cell_type": "markdown",
   "id": "476ce913",
   "metadata": {},
   "source": [
    "## Exercise 2"
   ]
  },
  {
   "cell_type": "code",
   "execution_count": 19,
   "id": "c5fa8397",
   "metadata": {},
   "outputs": [
    {
     "name": "stdout",
     "output_type": "stream",
     "text": [
      "enter num: 1\n",
      "enter num: 2\n",
      "enter num: 3\n",
      "enter num: 4\n",
      "enter num: 5\n",
      "['5', '4', '3', '2', '1']\n"
     ]
    }
   ],
   "source": [
    "l=[]\n",
    "for i in range(5):\n",
    "    l.insert(0,input(\"enter num: \"))\n",
    "print(l)\n",
    "    "
   ]
  },
  {
   "cell_type": "markdown",
   "id": "3a3473ad",
   "metadata": {},
   "source": [
    "## Exercise 3"
   ]
  },
  {
   "cell_type": "code",
   "execution_count": 22,
   "id": "b9c20e5d",
   "metadata": {},
   "outputs": [
    {
     "name": "stdout",
     "output_type": "stream",
     "text": [
      "enter num: 1\n",
      "enter num: 2\n",
      "enter num: 3\n",
      "27\n"
     ]
    }
   ],
   "source": [
    "d=dict()\n",
    "for i in range(3):\n",
    "    n=input(\"enter num: \")\n",
    "    d[n]=pow(int(n),3)\n",
    "print(d[n])    \n"
   ]
  },
  {
   "cell_type": "code",
   "execution_count": null,
   "id": "73b5d3c5",
   "metadata": {},
   "outputs": [],
   "source": []
  }
 ],
 "metadata": {
  "kernelspec": {
   "display_name": "Python 3 (ipykernel)",
   "language": "python",
   "name": "python3"
  },
  "language_info": {
   "codemirror_mode": {
    "name": "ipython",
    "version": 3
   },
   "file_extension": ".py",
   "mimetype": "text/x-python",
   "name": "python",
   "nbconvert_exporter": "python",
   "pygments_lexer": "ipython3",
   "version": "3.10.4"
  }
 },
 "nbformat": 4,
 "nbformat_minor": 5
}
