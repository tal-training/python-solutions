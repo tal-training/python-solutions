{
 "cells": [
  {
   "cell_type": "markdown",
   "id": "cad16125",
   "metadata": {},
   "source": [
    "https://docs.python.org/3/tutorial/stdlib.html"
   ]
  },
  {
   "cell_type": "code",
   "execution_count": null,
   "id": "06b872ef",
   "metadata": {},
   "outputs": [],
   "source": [
    "import os\n",
    "os.getcwd()\n",
    "os.chdir('/server/accesslogs') \n",
    "os.system('mkdir today') \n",
    "os.environ\n",
    "os.listdir()"
   ]
  },
  {
   "cell_type": "code",
   "execution_count": null,
   "id": "23d145c5",
   "metadata": {},
   "outputs": [],
   "source": []
  },
  {
   "cell_type": "code",
   "execution_count": 4,
   "id": "468c9e61",
   "metadata": {},
   "outputs": [
    {
     "ename": "FileNotFoundError",
     "evalue": "[Errno 2] No such file or directory: 'data.db'",
     "output_type": "error",
     "traceback": [
      "\u001b[0;31m---------------------------------------------------------------------------\u001b[0m",
      "\u001b[0;31mFileNotFoundError\u001b[0m                         Traceback (most recent call last)",
      "\u001b[0;32m/tmp/ipykernel_417604/3832573238.py\u001b[0m in \u001b[0;36m<module>\u001b[0;34m\u001b[0m\n\u001b[1;32m      1\u001b[0m \u001b[0;32mimport\u001b[0m \u001b[0mshutil\u001b[0m\u001b[0;34m\u001b[0m\u001b[0;34m\u001b[0m\u001b[0m\n\u001b[0;32m----> 2\u001b[0;31m \u001b[0mshutil\u001b[0m\u001b[0;34m.\u001b[0m\u001b[0mcopyfile\u001b[0m\u001b[0;34m(\u001b[0m\u001b[0;34m'data.db'\u001b[0m\u001b[0;34m,\u001b[0m \u001b[0;34m'archive.db'\u001b[0m\u001b[0;34m)\u001b[0m\u001b[0;34m\u001b[0m\u001b[0;34m\u001b[0m\u001b[0m\n\u001b[0m\u001b[1;32m      3\u001b[0m \u001b[0;34m'archive.db'\u001b[0m\u001b[0;34m\u001b[0m\u001b[0;34m\u001b[0m\u001b[0m\n\u001b[1;32m      4\u001b[0m \u001b[0mshutil\u001b[0m\u001b[0;34m.\u001b[0m\u001b[0mmove\u001b[0m\u001b[0;34m(\u001b[0m\u001b[0;34m'/build/executables'\u001b[0m\u001b[0;34m,\u001b[0m \u001b[0;34m'installdir'\u001b[0m\u001b[0;34m)\u001b[0m\u001b[0;34m\u001b[0m\u001b[0;34m\u001b[0m\u001b[0m\n",
      "\u001b[0;32m/usr/lib/python3.10/shutil.py\u001b[0m in \u001b[0;36mcopyfile\u001b[0;34m(src, dst, follow_symlinks)\u001b[0m\n\u001b[1;32m    252\u001b[0m         \u001b[0mos\u001b[0m\u001b[0;34m.\u001b[0m\u001b[0msymlink\u001b[0m\u001b[0;34m(\u001b[0m\u001b[0mos\u001b[0m\u001b[0;34m.\u001b[0m\u001b[0mreadlink\u001b[0m\u001b[0;34m(\u001b[0m\u001b[0msrc\u001b[0m\u001b[0;34m)\u001b[0m\u001b[0;34m,\u001b[0m \u001b[0mdst\u001b[0m\u001b[0;34m)\u001b[0m\u001b[0;34m\u001b[0m\u001b[0;34m\u001b[0m\u001b[0m\n\u001b[1;32m    253\u001b[0m     \u001b[0;32melse\u001b[0m\u001b[0;34m:\u001b[0m\u001b[0;34m\u001b[0m\u001b[0;34m\u001b[0m\u001b[0m\n\u001b[0;32m--> 254\u001b[0;31m         \u001b[0;32mwith\u001b[0m \u001b[0mopen\u001b[0m\u001b[0;34m(\u001b[0m\u001b[0msrc\u001b[0m\u001b[0;34m,\u001b[0m \u001b[0;34m'rb'\u001b[0m\u001b[0;34m)\u001b[0m \u001b[0;32mas\u001b[0m \u001b[0mfsrc\u001b[0m\u001b[0;34m:\u001b[0m\u001b[0;34m\u001b[0m\u001b[0;34m\u001b[0m\u001b[0m\n\u001b[0m\u001b[1;32m    255\u001b[0m             \u001b[0;32mtry\u001b[0m\u001b[0;34m:\u001b[0m\u001b[0;34m\u001b[0m\u001b[0;34m\u001b[0m\u001b[0m\n\u001b[1;32m    256\u001b[0m                 \u001b[0;32mwith\u001b[0m \u001b[0mopen\u001b[0m\u001b[0;34m(\u001b[0m\u001b[0mdst\u001b[0m\u001b[0;34m,\u001b[0m \u001b[0;34m'wb'\u001b[0m\u001b[0;34m)\u001b[0m \u001b[0;32mas\u001b[0m \u001b[0mfdst\u001b[0m\u001b[0;34m:\u001b[0m\u001b[0;34m\u001b[0m\u001b[0;34m\u001b[0m\u001b[0m\n",
      "\u001b[0;31mFileNotFoundError\u001b[0m: [Errno 2] No such file or directory: 'data.db'"
     ]
    }
   ],
   "source": [
    "import shutil\n",
    "shutil.copyfile('data.db', 'archive.db')\n",
    "'archive.db'\n",
    "shutil.move('/build/executables', 'installdir')\n"
   ]
  },
  {
   "cell_type": "code",
   "execution_count": 3,
   "id": "aff07fcb",
   "metadata": {},
   "outputs": [
    {
     "data": {
      "text/plain": [
       "[]"
      ]
     },
     "execution_count": 3,
     "metadata": {},
     "output_type": "execute_result"
    }
   ],
   "source": [
    "import glob\n",
    "glob.glob('*.py')"
   ]
  },
  {
   "cell_type": "code",
   "execution_count": 13,
   "id": "63bc2ea8",
   "metadata": {},
   "outputs": [
    {
     "data": {
      "text/plain": [
       "['.ipynb_checkpoints',\n",
       " 'Music',\n",
       " 'snap',\n",
       " '.sqlite_history',\n",
       " '.sudo_as_admin_successful',\n",
       " 'Public',\n",
       " 'python-github',\n",
       " '.profile',\n",
       " '.java',\n",
       " '.anaconda_backup',\n",
       " 'Desktop',\n",
       " '.python_history',\n",
       " '.ipython',\n",
       " '.local',\n",
       " '.mozilla',\n",
       " 'Downloads',\n",
       " '.wget-hsts',\n",
       " '.cache',\n",
       " '.kde',\n",
       " '.bashrc',\n",
       " 'Screenshot from 2022-05-16 08-49-11.jpg',\n",
       " '.themes',\n",
       " 'Untitled.ipynb',\n",
       " '.cinnamon',\n",
       " '.gitconfig',\n",
       " 'tests',\n",
       " 'Pictures',\n",
       " '.vscode',\n",
       " '.jupyter',\n",
       " 'data',\n",
       " '.config',\n",
       " 'Mail',\n",
       " '.viminfo',\n",
       " 'anaconda3',\n",
       " '.pki',\n",
       " '.gnupg',\n",
       " '.ssh',\n",
       " 'firefox.tmp',\n",
       " 'Videos',\n",
       " 'test.py',\n",
       " '.bash_logout',\n",
       " '.icons',\n",
       " 'Documents',\n",
       " '.bash_history',\n",
       " '.claws-mail',\n",
       " 'Templates',\n",
       " '.lesshst',\n",
       " '.thunderbird',\n",
       " 'PycharmProjects',\n",
       " '.gtkrc-2.0',\n",
       " '.python_history-32137.tmp']"
      ]
     },
     "execution_count": 13,
     "metadata": {},
     "output_type": "execute_result"
    }
   ],
   "source": [
    "import os\n",
    "os.chdir('/home/tal')\n",
    "os.getcwd()\n",
    "os.listdir()"
   ]
  },
  {
   "cell_type": "code",
   "execution_count": 30,
   "id": "94291b15",
   "metadata": {},
   "outputs": [
    {
     "data": {
      "text/plain": [
       "['stratasys', 'sells']"
      ]
     },
     "execution_count": 30,
     "metadata": {},
     "output_type": "execute_result"
    }
   ],
   "source": [
    "import re\n",
    "re.findall(r'\\bs[a-z]*', 'stratasys sells printers')\n",
    "#re.sub(r'(\\b[a-z]+) \\1', r'\\1', 'cat in the the hat')\n"
   ]
  },
  {
   "cell_type": "code",
   "execution_count": 31,
   "id": "5b501e05",
   "metadata": {},
   "outputs": [
    {
     "data": {
      "text/plain": [
       "1.3720238095238095"
      ]
     },
     "execution_count": 31,
     "metadata": {},
     "output_type": "execute_result"
    }
   ],
   "source": [
    "import statistics\n",
    "data = [2.75, 1.75, 1.25, 0.25, 0.5, 1.25, 3.5]\n",
    "statistics.mean(data)\n",
    "statistics.median(data)\n",
    "statistics.variance(data)"
   ]
  },
  {
   "cell_type": "markdown",
   "id": "b18b0b8a",
   "metadata": {},
   "source": [
    "print the statustics in a table"
   ]
  },
  {
   "cell_type": "code",
   "execution_count": 2,
   "id": "7ac7e632",
   "metadata": {
    "scrolled": true
   },
   "outputs": [
    {
     "name": "stdout",
     "output_type": "stream",
     "text": [
      "abbreviation: UTC\n",
      "client_ip: 2a00:a040:18d:10a9:dc63:e247:3e23:a0e3\n",
      "datetime: 2022-05-25T12:09:15.611258+00:00\n",
      "day_of_week: 3\n",
      "day_of_year: 145\n",
      "dst: false\n",
      "dst_from:\n",
      "dst_offset: 0\n",
      "dst_until:\n",
      "raw_offset: 0\n",
      "timezone: Etc/UTC\n",
      "unixtime: 1653480555\n",
      "utc_datetime: 2022-05-25T12:09:15.611258+00:00\n",
      "utc_offset: +00:00\n",
      "week_number: 21\n"
     ]
    }
   ],
   "source": [
    "from urllib.request import urlopen\n",
    "with urlopen('http://worldtimeapi.org/api/timezone/etc/UTC.txt') as response:\n",
    "    for line in response:\n",
    "        line = line.decode()             # Convert bytes to a str\n",
    "        if line.startswith('datetime'):\n",
    "            print(line.rstrip())         # Remove trailing newline\n"
   ]
  },
  {
   "cell_type": "markdown",
   "id": "b1c5ac98",
   "metadata": {},
   "source": [
    "print the whole page\n",
    "print the client IP\n",
    "print the week number\n",
    "extract the week number\n"
   ]
  },
  {
   "cell_type": "code",
   "execution_count": 31,
   "id": "6ecd1112",
   "metadata": {},
   "outputs": [
    {
     "name": "stdout",
     "output_type": "stream",
     "text": [
      "2022-05-25\n"
     ]
    },
    {
     "ename": "TypeError",
     "evalue": "'tuple' object cannot be interpreted as an integer",
     "output_type": "error",
     "traceback": [
      "\u001b[0;31m---------------------------------------------------------------------------\u001b[0m",
      "\u001b[0;31mTypeError\u001b[0m                                 Traceback (most recent call last)",
      "\u001b[0;32m/tmp/ipykernel_420938/3792417113.py\u001b[0m in \u001b[0;36m<module>\u001b[0;34m\u001b[0m\n\u001b[1;32m      4\u001b[0m \u001b[0;32mimport\u001b[0m \u001b[0mdatetime\u001b[0m\u001b[0;34m\u001b[0m\u001b[0;34m\u001b[0m\u001b[0m\n\u001b[1;32m      5\u001b[0m \u001b[0md\u001b[0m\u001b[0;34m=\u001b[0m\u001b[0;34m(\u001b[0m\u001b[0;36m2003\u001b[0m\u001b[0;34m,\u001b[0m \u001b[0;36m12\u001b[0m\u001b[0;34m,\u001b[0m \u001b[0;36m2\u001b[0m\u001b[0;34m)\u001b[0m\u001b[0;34m\u001b[0m\u001b[0;34m\u001b[0m\u001b[0m\n\u001b[0;32m----> 6\u001b[0;31m \u001b[0mprint\u001b[0m\u001b[0;34m(\u001b[0m\u001b[0mdatetime\u001b[0m\u001b[0;34m.\u001b[0m\u001b[0mdate\u001b[0m\u001b[0;34m(\u001b[0m\u001b[0md\u001b[0m\u001b[0;34m)\u001b[0m\u001b[0;34m)\u001b[0m\u001b[0;34m\u001b[0m\u001b[0;34m\u001b[0m\u001b[0m\n\u001b[0m\u001b[1;32m      7\u001b[0m \u001b[0mn\u001b[0m\u001b[0;34m=\u001b[0m\u001b[0mnow\u001b[0m\u001b[0;34m.\u001b[0m\u001b[0mstrftime\u001b[0m\u001b[0;34m(\u001b[0m\u001b[0;34m\"%m-%d-%y. %d %b %Y is a %A on the %d day of %B.\"\u001b[0m\u001b[0;34m)\u001b[0m\u001b[0;34m\u001b[0m\u001b[0;34m\u001b[0m\u001b[0m\n\u001b[1;32m      8\u001b[0m \u001b[0mprint\u001b[0m\u001b[0;34m(\u001b[0m\u001b[0mn\u001b[0m\u001b[0;34m)\u001b[0m\u001b[0;34m\u001b[0m\u001b[0;34m\u001b[0m\u001b[0m\n",
      "\u001b[0;31mTypeError\u001b[0m: 'tuple' object cannot be interpreted as an integer"
     ]
    }
   ],
   "source": [
    "from datetime import date\n",
    "now = date.today()\n",
    "print(now)\n",
    "import datetime\n",
    "print(datetime.date(2003, 12, 2))\n",
    "n=now.strftime(\"%m-%d-%y. %d %b %Y is a %A on the %d day of %B.\")\n",
    "print(n)\n",
    "# dates support calendar arithmetic\n",
    "birthday = date(1964, 7, 31)\n",
    "age = now - birthday\n",
    "age.days\n"
   ]
  },
  {
   "cell_type": "code",
   "execution_count": 37,
   "id": "543a2fe3",
   "metadata": {},
   "outputs": [
    {
     "name": "stdout",
     "output_type": "stream",
     "text": [
      "28/03/22 29/03/22\n"
     ]
    }
   ],
   "source": [
    "log=\"\"\"<0> 28/03/22 16:34:46 : Power source has changed. Power source is: AC power\n",
    "<0> 29/03/22 16:34:47 : The application creates zip files\n",
    "<0> 30/03/22 16:34:47 : The application creates zip files for host\n",
    "\"\"\"\n",
    "date1=log.split('\\n')[0].split()[1]\n",
    "date2=log.split('\\n')[1].split()[1]\n",
    "print(date1,date2)\n"
   ]
  },
  {
   "cell_type": "code",
   "execution_count": 85,
   "id": "a9c44321",
   "metadata": {},
   "outputs": [
    {
     "name": "stdout",
     "output_type": "stream",
     "text": [
      "28/02/22 29/03/22\n",
      "[22, 2, 28]\n",
      "0022-02-28\n",
      "0022-03-29\n",
      "29 days, 0:00:00\n"
     ]
    }
   ],
   "source": [
    "log=\"\"\"<0> 28/02/22 16:34:46 : Power source has changed. Power source is: AC power\n",
    "<0> 29/03/22 16:34:47 : The application creates zip files\n",
    "\n",
    "<0> 30/03/22 16:34:47 : The application creates zip files for host\n",
    "\"\"\"\n",
    "date1=log.split('\\n')[0].split()[1]\n",
    "date2=log.split('\\n')[1].split()[1]\n",
    "print(date1,date2)\n",
    "print(list(reversed([int(d) for d in date1.split('/')])))\n",
    "date1=datetime.date(*tuple(reversed([int(d) for d in date1.split('/')])))\n",
    "print(date1)\n",
    "date2=datetime.date(*tuple(reversed([int(d) for d in date2.split('/')])))\n",
    "print(date2)\n",
    "print(date2-date1)\n",
    "\n"
   ]
  },
  {
   "cell_type": "markdown",
   "id": "d78cda79",
   "metadata": {},
   "source": [
    "Step by step"
   ]
  },
  {
   "cell_type": "code",
   "execution_count": 86,
   "id": "4b6bfa5b",
   "metadata": {},
   "outputs": [
    {
     "data": {
      "text/plain": [
       "['<0> 28/02/22 16:34:46 : Power source has changed. Power source is: AC power',\n",
       " '<0> 29/03/22 16:34:47 : The application creates zip files',\n",
       " '',\n",
       " '<0> 30/03/22 16:34:47 : The application creates zip files for host',\n",
       " '']"
      ]
     },
     "execution_count": 86,
     "metadata": {},
     "output_type": "execute_result"
    }
   ],
   "source": [
    "date1=log.split('\\n')[0].split()[1]\n",
    "log.split('\\n')"
   ]
  },
  {
   "cell_type": "code",
   "execution_count": 3,
   "id": "7433a68e",
   "metadata": {},
   "outputs": [
    {
     "data": {
      "text/plain": [
       "0.49969225603854284"
      ]
     },
     "execution_count": 3,
     "metadata": {},
     "output_type": "execute_result"
    }
   ],
   "source": [
    "from timeit import Timer\n",
    "Timer('[int(i) for i in range(10)]').timeit()\n",
    "#Timer('for i in range(10): int(i)').timeit()\n"
   ]
  },
  {
   "cell_type": "code",
   "execution_count": 15,
   "id": "654dfa0b",
   "metadata": {},
   "outputs": [
    {
     "name": "stdout",
     "output_type": "stream",
     "text": [
      "{\"user1\": \"user1@gmail.com\"}\n",
      "user1@gmail.com\n"
     ]
    }
   ],
   "source": [
    "import json\n",
    "user={\"user1\":\"user1@gmail.com\"}\n",
    "j=json.dumps(user)\n",
    "print(j)\n",
    "user=json.loads(j)\n",
    "print(user[\"user1\"])"
   ]
  },
  {
   "cell_type": "code",
   "execution_count": 48,
   "id": "0275a020",
   "metadata": {},
   "outputs": [
    {
     "name": "stdout",
     "output_type": "stream",
     "text": [
      " \" grade\"\n",
      " \" grade\"\n",
      " \" grade\"\n",
      " \" grade\"\n",
      " \" grade\"\n",
      " \" grade\"\n",
      " \" grade\"\n",
      " \" grade\"\n",
      " \" grade\"\n"
     ]
    }
   ],
   "source": [
    "import csv\n",
    "import re\n",
    "with open('/home/tal/python-github/python-solutions/grades.csv', newline='') as csvfile:\n",
    "    reader = csv.DictReader(csvfile)\n",
    "    for row in reader:\n",
    "        print(json.dumps(row).split(',')[1].split(':')[0])\n",
    "        #print(row[re.findall(\"grade\")])\n"
   ]
  }
 ],
 "metadata": {
  "kernelspec": {
   "display_name": "Python 3 (ipykernel)",
   "language": "python",
   "name": "python3"
  },
  "language_info": {
   "codemirror_mode": {
    "name": "ipython",
    "version": 3
   },
   "file_extension": ".py",
   "mimetype": "text/x-python",
   "name": "python",
   "nbconvert_exporter": "python",
   "pygments_lexer": "ipython3",
   "version": "3.10.4"
  }
 },
 "nbformat": 4,
 "nbformat_minor": 5
}
