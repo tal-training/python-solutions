{
 "cells": [
  {
   "cell_type": "markdown",
   "id": "2109390e",
   "metadata": {},
   "source": [
    "# Solutions to Data Types Exercises"
   ]
  },
  {
   "cell_type": "markdown",
   "id": "c3d834ca",
   "metadata": {},
   "source": [
    "## Exercise 4"
   ]
  },
  {
   "cell_type": "code",
   "execution_count": 5,
   "id": "4ab35659",
   "metadata": {},
   "outputs": [
    {
     "name": "stdout",
     "output_type": "stream",
     "text": [
      "enter a: 1\n",
      "enter b: 2\n",
      "1\n",
      "2\n",
      "3\n",
      "2\n",
      "-1\n",
      "0.5\n"
     ]
    }
   ],
   "source": [
    "a=b=c=d=e=f=int()\n",
    "\n",
    "a,b=int(input(\"enter a: \")), int(input(\"enter b: \"))\n",
    "\n",
    "c=a+b\n",
    "d=a*b\n",
    "e=a-b\n",
    "f=a/b\n",
    "\n",
    "print(a,b,c,d,e,f, sep='\\n')"
   ]
  },
  {
   "cell_type": "markdown",
   "id": "ef839d4b",
   "metadata": {},
   "source": [
    "## Exercise 5"
   ]
  },
  {
   "cell_type": "code",
   "execution_count": 6,
   "id": "9fcc3c14",
   "metadata": {},
   "outputs": [
    {
     "name": "stdout",
     "output_type": "stream",
     "text": [
      "\n",
      "Calculating c,d,e,f...\n",
      "\n",
      "|  a  |  b  | a+b | a*b | a-b | a/b |\n",
      "+-----+-----+-----+-----+-----+-----+\n",
      "|  2  |  5  |  7  |  10 |  -3 | 0.4 |\n"
     ]
    }
   ],
   "source": [
    "a=2\n",
    "b=5\n",
    "\n",
    "width=5\n",
    "    \n",
    "c=str(a+b)\n",
    "d=str(a*b)\n",
    "e=str(a-b)\n",
    "f=str(round(a/b,1))\n",
    "a=str(a)\n",
    "b=str(b)\n",
    "\n",
    "print(\"\\nCalculating c,d,e,f...\\n\")\n",
    "\n",
    "row1=f\"|{'a'.center(width)}|{'b'.center(width)}|{'a+b'.center(width)}|{'a*b'.center(width)}|{'a-b'.center(width)}|{'a/b'.center(width)}|\"\n",
    "rowLines=('+'+'-'*width)*6+'+'\n",
    "row2=f\"|{a.center(width)}|{b.center(width)}|{c.center(width)}|{d.center(width)}|{e.center(width)}|{f.center(width)}|\"\n",
    "\n",
    "print(row1)\n",
    "print(rowLines)\n",
    "print(row2)"
   ]
  },
  {
   "cell_type": "markdown",
   "id": "3ca8b382",
   "metadata": {},
   "source": [
    "## Exercise 6"
   ]
  },
  {
   "cell_type": "code",
   "execution_count": null,
   "id": "f8a14b2e",
   "metadata": {},
   "outputs": [],
   "source": [
    "a=2\n",
    "b=5\n",
    "\n",
    "width=5\n",
    "    \n",
    "c=str(a+b)\n",
    "row2=f\"|{str(a).center(width)}|{str(b).center(width)}|{c.center(width)}\"\n",
    "c=str(a*b)\n",
    "row2+=f\"|{c.center(width)}\"\n",
    "c=str(a-b)\n",
    "row2+=f\"|{c.center(width)}\"\n",
    "c=str(round(a/b,1))\n",
    "row2+=f\"|{c.center(width)}|\"\n",
    "\n",
    "print(\"\\nCalculating c,d,e,f...\\n\")\n",
    "\n",
    "row1=f\"|{'a'.center(width)}|{'b'.center(width)}|{'a+b'.center(width)}|{'a*b'.center(width)}|{'a-b'.center(width)}|{'a/b'.center(width)}|\"\n",
    "rowLines=('+'+'-'*width)*6+'+'\n",
    "\n",
    "print(row1)\n",
    "print(rowLines)\n",
    "print(row2)"
   ]
  },
  {
   "cell_type": "markdown",
   "id": "16107df9",
   "metadata": {},
   "source": [
    "## Exercise 7"
   ]
  },
  {
   "cell_type": "code",
   "execution_count": 7,
   "id": "1533eeae",
   "metadata": {},
   "outputs": [
    {
     "name": "stdout",
     "output_type": "stream",
     "text": [
      "enter num: 1\n",
      "enter num: 2\n",
      "enter num: 3\n",
      "6\n"
     ]
    }
   ],
   "source": [
    "#!/usr/bin/env python3\n",
    "# -*- coding: utf-8 -*-\n",
    "\"\"\"\n",
    "Created on Fri May 13 09:23:12 2022\n",
    "\n",
    "@author: tal\n",
    "\"\"\"\n",
    "\n",
    "a=int(input(\"enter num: \"))\n",
    "b=a+int(input(\"enter num: \"))\n",
    "b=b+int(input(\"enter num: \"))\n",
    "\n",
    "print(b)"
   ]
  },
  {
   "cell_type": "markdown",
   "id": "0ad08702",
   "metadata": {},
   "source": [
    "## Exercise 8"
   ]
  },
  {
   "cell_type": "code",
   "execution_count": 8,
   "id": "8807902d",
   "metadata": {},
   "outputs": [
    {
     "name": "stdout",
     "output_type": "stream",
     "text": [
      "enter num: 1\n",
      "enter another num: 2\n",
      "enter another num: 3\n",
      "6\n"
     ]
    }
   ],
   "source": [
    "#!/usr/bin/env python3\n",
    "# -*- coding: utf-8 -*-\n",
    "\"\"\"\n",
    "Created on Fri May 13 09:23:12 2022\n",
    "\n",
    "@author: tal\n",
    "\"\"\"\n",
    "\n",
    "a=int(input(\"enter num: \"))\n",
    "b=a+int(input(\"enter another num: \"))\n",
    "b=b+int(input(\"enter another num: \"))\n",
    "\n",
    "print(b)"
   ]
  },
  {
   "cell_type": "markdown",
   "id": "a94d7420",
   "metadata": {},
   "source": [
    "## Exercise 9"
   ]
  },
  {
   "cell_type": "code",
   "execution_count": 9,
   "id": "9357319f",
   "metadata": {},
   "outputs": [
    {
     "name": "stdout",
     "output_type": "stream",
     "text": [
      "enter num: 1\n",
      "enter another num: 2\n",
      "enter another num: 3\n",
      "enter another num: 4\n",
      "enter another num: 5\n",
      "15\n"
     ]
    }
   ],
   "source": [
    "#!/usr/bin/env python3\n",
    "# -*- coding: utf-8 -*-\n",
    "\"\"\"\n",
    "Created on Fri May 13 09:23:12 2022\n",
    "\n",
    "@author: tal\n",
    "\"\"\"\n",
    "sum=0\n",
    "\n",
    "a=int(input(\"enter num: \"))\n",
    "sum+=a\n",
    "sum+=int(input(\"enter another num: \"))\n",
    "sum+=int(input(\"enter another num: \"))\n",
    "sum+=int(input(\"enter another num: \"))\n",
    "sum+=int(input(\"enter another num: \"))\n",
    "\n",
    "print(sum)"
   ]
  },
  {
   "cell_type": "markdown",
   "id": "f2892a35",
   "metadata": {},
   "source": [
    "## Exercise 10"
   ]
  },
  {
   "cell_type": "code",
   "execution_count": null,
   "id": "73adb3ed",
   "metadata": {},
   "outputs": [],
   "source": [
    "#!/usr/bin/env python3\n",
    "# -*- coding: utf-8 -*-\n",
    "\"\"\"\n",
    "Created on Fri May 13 09:28:46 2022\n",
    "\n",
    "@author: tal\n",
    "\"\"\"\n",
    "\n",
    "a=int(input(\"enter a: \"))\n",
    "b=int(input(\"enter b: \"))\n",
    "c=int(input(\"enter c: \"))\n",
    "d=int(input(\"enter d: \"))\n",
    "e=int(input(\"enter e: \"))\n",
    "\n",
    "result=d/(e*(a+b+c))\n",
    "\n",
    "print(round(result,2))"
   ]
  },
  {
   "cell_type": "markdown",
   "id": "5d0023be",
   "metadata": {},
   "source": [
    "## Exercise 11"
   ]
  },
  {
   "cell_type": "code",
   "execution_count": 10,
   "id": "0e5b13f7",
   "metadata": {},
   "outputs": [
    {
     "name": "stdout",
     "output_type": "stream",
     "text": [
      "enter a: 1\n",
      "enter b: 2\n",
      "enter c: 3\n",
      "enter d: 4\n",
      "enter e: 5\n",
      "0.13\n"
     ]
    }
   ],
   "source": [
    "#!/usr/bin/env python3\n",
    "# -*- coding: utf-8 -*-\n",
    "\"\"\"\n",
    "Created on Fri May 13 09:28:46 2022\n",
    "\n",
    "@author: tal\n",
    "\"\"\"\n",
    "\n",
    "v1=int(input(\"enter a: \"))\n",
    "v1+=int(input(\"enter b: \"))\n",
    "v1+=int(input(\"enter c: \"))\n",
    "v2=int(input(\"enter d: \"))\n",
    "v2=v2/(int(input(\"enter e: \"))*v1)\n",
    "\n",
    "print(round(v2,2))"
   ]
  },
  {
   "cell_type": "markdown",
   "id": "5cb03821",
   "metadata": {},
   "source": [
    "## Exercise 12"
   ]
  },
  {
   "cell_type": "code",
   "execution_count": null,
   "id": "be84dedd",
   "metadata": {},
   "outputs": [],
   "source": [
    "#!/usr/bin/env python3\n",
    "# -*- coding: utf-8 -*-\n",
    "\"\"\"\n",
    "Created on Fri May 13 09:28:46 2022\n",
    "\n",
    "@author: tal\n",
    "\"\"\"\n",
    "\n",
    "n=float(input(\"Enter a number: \"))\n",
    "\n",
    "print(f\"The square of {n} is: {round(n**2,2)}\")"
   ]
  },
  {
   "cell_type": "markdown",
   "id": "23281cfb",
   "metadata": {},
   "source": [
    "## Exercise 13"
   ]
  },
  {
   "cell_type": "code",
   "execution_count": null,
   "id": "2e871ad0",
   "metadata": {},
   "outputs": [],
   "source": [
    "#!/usr/bin/env python3\n",
    "# -*- coding: utf-8 -*-\n",
    "\"\"\"\n",
    "Created on Fri May 13 09:28:46 2022\n",
    "\n",
    "@author: tal\n",
    "\"\"\"\n",
    "\n",
    "n=float(input(\"Enter a number: \"))\n",
    "\n",
    "print(f\"The square of {n} is: {round(n**2,2)}\")"
   ]
  },
  {
   "cell_type": "markdown",
   "id": "ee6ca1cf",
   "metadata": {},
   "source": [
    "## Exercise 14"
   ]
  },
  {
   "cell_type": "code",
   "execution_count": null,
   "id": "0b93df01",
   "metadata": {},
   "outputs": [],
   "source": [
    "#!/usr/bin/env python3\n",
    "# -*- coding: utf-8 -*-\n",
    "\"\"\"\n",
    "Created on Fri May 13 09:28:46 2022\n",
    "\n",
    "@author: tal\n",
    "\n",
    "a=float(input(\"Enter a number: \"))\n",
    "b=float(input(\"Enter a number: \"))\n",
    "c=float(input(\"Enter a number: \"))\n",
    "\"\"\"\n",
    "\n",
    "a,b,c=1,2,3\n",
    "\n",
    "row1=\"X\".center(5)+\"X*X\".center(5)\n",
    "row2=str(a).center(5)+str(pow(a,2)).center(5)\n",
    "row3=str(b).center(5)+str(pow(b,2)).center(5)\n",
    "row4=str(c).center(5)+str(pow(c,2)).center(5)\n",
    "\n",
    "print(row1)\n",
    "print(row2)\n",
    "print(row3)\n",
    "print(row4)"
   ]
  },
  {
   "cell_type": "markdown",
   "id": "a1d845b6",
   "metadata": {},
   "source": [
    "## Exercise 15"
   ]
  },
  {
   "cell_type": "code",
   "execution_count": null,
   "id": "5d4597e1",
   "metadata": {},
   "outputs": [],
   "source": [
    "#!/usr/bin/env python3\n",
    "# -*- coding: utf-8 -*-\n",
    "\"\"\"\n",
    "Created on Fri May 13 09:28:46 2022\n",
    "\n",
    "@author: tal\n",
    "\n",
    "a=float(input(\"Enter a number: \"))\n",
    "b=float(input(\"Enter a number: \"))\n",
    "\"\"\"\n",
    "\n",
    "a,b=-2,1\n",
    "\n",
    "print((a*b)/2)"
   ]
  },
  {
   "cell_type": "markdown",
   "id": "ee40ec16",
   "metadata": {},
   "source": [
    "## Exercise 16"
   ]
  },
  {
   "cell_type": "code",
   "execution_count": null,
   "id": "7ef604a5",
   "metadata": {},
   "outputs": [],
   "source": [
    "#!/usr/bin/env python3\n",
    "# -*- coding: utf-8 -*-\n",
    "\"\"\"\n",
    "Created on Fri May 13 09:28:46 2022\n",
    "\n",
    "@author: tal\n",
    "\n",
    "price=float(input(\"Enter a number: \"))\n",
    "\"\"\"\n",
    "\n",
    "price=200\n",
    "\n",
    "print(price*0.17)"
   ]
  },
  {
   "cell_type": "markdown",
   "id": "7d89b3de",
   "metadata": {},
   "source": [
    "## Exercise 17"
   ]
  },
  {
   "cell_type": "code",
   "execution_count": 12,
   "id": "a857e2f4",
   "metadata": {},
   "outputs": [
    {
     "name": "stdout",
     "output_type": "stream",
     "text": [
      "234.0\n"
     ]
    }
   ],
   "source": [
    "#!/usr/bin/env python3\n",
    "# -*- coding: utf-8 -*-\n",
    "\"\"\"\n",
    "Created on Fri May 13 09:28:46 2022\n",
    "\n",
    "@author: tal\n",
    "\n",
    "price=float(input(\"Enter a number: \"))\n",
    "\"\"\"\n",
    "\n",
    "price=200\n",
    "\n",
    "print(price*1.17)"
   ]
  },
  {
   "cell_type": "markdown",
   "id": "3cf6a643",
   "metadata": {},
   "source": [
    "## Exercise 18"
   ]
  },
  {
   "cell_type": "code",
   "execution_count": null,
   "id": "6603d638",
   "metadata": {},
   "outputs": [],
   "source": [
    "#!/usr/bin/env python3\n",
    "# -*- coding: utf-8 -*-\n",
    "\"\"\"\n",
    "Created on Fri May 13 09:28:46 2022\n",
    "\n",
    "@author: tal\n",
    "\n",
    "price=float(input(\"Enter a number: \"))\n",
    "\"\"\"\n",
    "\n",
    "priceWithVAT=200\n",
    "\n",
    "price=round(priceWithVAT/1.17,2)\n",
    "\n",
    "print(f\"Net price: {price}\")\n",
    "print(f\"VAT: {round(priceWithVAT-price,2)}\")\n",
    "\n"
   ]
  },
  {
   "cell_type": "markdown",
   "id": "22deeea5",
   "metadata": {},
   "source": [
    "## Exercise 19"
   ]
  },
  {
   "cell_type": "code",
   "execution_count": null,
   "id": "3d279c01",
   "metadata": {},
   "outputs": [],
   "source": [
    "#!/usr/bin/env python3\n",
    "# -*- coding: utf-8 -*-\n",
    "\"\"\"\n",
    "Created on Fri May 13 09:28:46 2022\n",
    "\n",
    "@author: tal\n",
    "\n",
    "price=float(input(\"Enter a number: \"))\n",
    "\"\"\"\n",
    "\n",
    "priceWithVAT=200\n",
    "\n",
    "print(f\"Net price: {round(priceWithVAT/1.17,2)}\")\n",
    "print(f\"VAT: {round(priceWithVAT-priceWithVAT/1.17,2)}\")\n",
    "\n"
   ]
  },
  {
   "cell_type": "markdown",
   "id": "10c3c258",
   "metadata": {},
   "source": [
    "## Exercise 20"
   ]
  },
  {
   "cell_type": "code",
   "execution_count": null,
   "id": "ceee9578",
   "metadata": {},
   "outputs": [],
   "source": [
    "#!/usr/bin/env python3\n",
    "# -*- coding: utf-8 -*-\n",
    "\"\"\"\n",
    "Created on Fri May 13 09:28:46 2022\n",
    "\n",
    "@author: tal\n",
    "\n",
    "\"\"\"\n",
    "sum=float(input(\"Enter a grade: \"))\n",
    "sum+=float(input(\"Enter a grade: \"))\n",
    "sum+=float(input(\"Enter a grade: \"))\n",
    "sum+=float(input(\"Enter a grade: \"))\n",
    "sum+=float(input(\"Enter a grade: \"))\n",
    "\n",
    "print(f\"Average grade: {round(sum/5,2)}\")\n",
    "            \n"
   ]
  },
  {
   "cell_type": "markdown",
   "id": "398fc07b",
   "metadata": {},
   "source": [
    "## Exercise 21"
   ]
  },
  {
   "cell_type": "code",
   "execution_count": null,
   "id": "e79286bf",
   "metadata": {},
   "outputs": [],
   "source": [
    "TAX=0.10\n",
    "\n",
    "name=input(\"Enter employee name: \")\n",
    "salary=int(input(\"Enter monthly pay: \"))\n",
    "additions=int(input(\"Enter sum of additions: \"))\n",
    "\n",
    "result=(salary-(salary*TAX))+additions\n",
    "\n",
    "print(result)\n",
    "\n"
   ]
  },
  {
   "cell_type": "markdown",
   "id": "f6dbdcd5",
   "metadata": {},
   "source": [
    "## Exercise 22"
   ]
  },
  {
   "cell_type": "code",
   "execution_count": 20,
   "id": "bfc84fd5",
   "metadata": {},
   "outputs": [
    {
     "name": "stdout",
     "output_type": "stream",
     "text": [
      "How many blue: 1\n",
      "How many yellow: 2\n",
      "How many green: 3\n",
      "How many red: 4\n",
      "total: 880\n",
      "How many blue: 1\n",
      "How many yellow: 2\n",
      "How many green: 3\n",
      "How many red: 4\n",
      "total: 880\n"
     ]
    }
   ],
   "source": [
    "#!/usr/bin/env python3\n",
    "# -*- coding: utf-8 -*-\n",
    "\"\"\"\n",
    "Created on Fri May 13 13:32:02 2022\n",
    "\n",
    "@author: tal\n",
    "\"\"\"\n",
    "\n",
    "##### Using dictionary\n",
    "\n",
    "types={\"blue\":120, \"yellow\":80, \"green\":100, \"red\":75}\n",
    "\n",
    "sum=0\n",
    "\n",
    "blueNum=int(input(\"How many blue: \"))\n",
    "sum+=(blueNum*types[\"blue\"])\n",
    "\n",
    "yellowNum=int(input(\"How many yellow: \"))\n",
    "sum+=(yellowNum*types[\"yellow\"])\n",
    "\n",
    "greenNum=int(input(\"How many green: \"))\n",
    "sum+=(greenNum*types[\"green\"])\n",
    "\n",
    "redNum=int(input(\"How many red: \"))\n",
    "sum+=(redNum*types[\"red\"])\n",
    "\n",
    "print(f\"total: {sum}\")\n",
    "\n",
    "# using loop\n",
    "\n",
    "sum=0\n",
    "\n",
    "for t in types.keys():\n",
    "    num=int(input(f\"How many {t}: \"))\n",
    "    sum+=(num*types[t])\n",
    "    \n",
    "print(f\"total: {sum}\")\n"
   ]
  },
  {
   "cell_type": "markdown",
   "id": "fa3d03a1",
   "metadata": {},
   "source": [
    "## Exercise 23"
   ]
  },
  {
   "cell_type": "code",
   "execution_count": 37,
   "id": "8c9f9ceb",
   "metadata": {},
   "outputs": [
    {
     "name": "stdout",
     "output_type": "stream",
     "text": [
      "The solution is x=0.6, y=1.6\n"
     ]
    }
   ],
   "source": [
    "#a1,b1,c1=input(\"enter the coefficients of first: \").split(' ')\n",
    "#a2,b2,c2=input(\"enter the coefficients of second: \").split(' ')\n",
    "\n",
    "a1,b1,c1=2,3,6\n",
    "a2,b2,c2=6,4,10\n",
    "\n",
    "coefficients=[a1,b1,c1,a2,b2,c2]\n",
    "\n",
    "for i,c in enumerate(coefficients):\n",
    "    coefficients[i]=int(coefficients[i])\n",
    "\n",
    "x=((c1*b2)-(c2*b1))/((a1*b2)-(a2*b1))\n",
    "y=((a1*c2)-(a2*c1))/((a1*b2)-(a2*b1))\n",
    "\n",
    "print(f\"The solution is x={x}, y={y}\")\n"
   ]
  },
  {
   "cell_type": "code",
   "execution_count": null,
   "id": "a88b899b",
   "metadata": {},
   "outputs": [],
   "source": []
  }
 ],
 "metadata": {
  "kernelspec": {
   "display_name": "Python 3 (ipykernel)",
   "language": "python",
   "name": "python3"
  },
  "language_info": {
   "codemirror_mode": {
    "name": "ipython",
    "version": 3
   },
   "file_extension": ".py",
   "mimetype": "text/x-python",
   "name": "python",
   "nbconvert_exporter": "python",
   "pygments_lexer": "ipython3",
   "version": "3.10.4"
  }
 },
 "nbformat": 4,
 "nbformat_minor": 5
}
