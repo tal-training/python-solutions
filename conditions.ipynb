{
 "cells": [
  {
   "cell_type": "markdown",
   "id": "ec9337c1",
   "metadata": {},
   "source": [
    "## Exercise 1"
   ]
  },
  {
   "cell_type": "code",
   "execution_count": 3,
   "id": "982769a6",
   "metadata": {},
   "outputs": [
    {
     "name": "stdout",
     "output_type": "stream",
     "text": [
      "enter num: 0\n",
      "0 is not a positive number\n"
     ]
    }
   ],
   "source": [
    "n=int(input(\"enter num: \"))\n",
    "\n",
    "if n>0:\n",
    "    print(f\"{n} is a positive number\")\n"
   ]
  },
  {
   "cell_type": "markdown",
   "id": "ac144afb",
   "metadata": {},
   "source": [
    "## Exercise 2"
   ]
  },
  {
   "cell_type": "code",
   "execution_count": 6,
   "id": "b27c230b",
   "metadata": {},
   "outputs": [
    {
     "name": "stdout",
     "output_type": "stream",
     "text": [
      "enter num: -1\n",
      "-1 is not a positive number\n"
     ]
    }
   ],
   "source": [
    "n=int(input(\"enter num: \"))\n",
    "\n",
    "if n>0:\n",
    "    print(f\"{n} is a positive number\")\n",
    "if n==0 or n<0:\n",
    "    print(f\"{n} is not a positive number\")    \n"
   ]
  },
  {
   "cell_type": "markdown",
   "id": "7a4c3e47",
   "metadata": {},
   "source": [
    "## Exercise 3"
   ]
  },
  {
   "cell_type": "code",
   "execution_count": 2,
   "id": "d7289ac2",
   "metadata": {},
   "outputs": [
    {
     "name": "stdout",
     "output_type": "stream",
     "text": [
      "enter num: 1\n",
      "enter num: 2\n",
      "enter 1 to add or 2 to subtract: 3\n"
     ]
    }
   ],
   "source": [
    "a=int(input(\"enter num: \"))\n",
    "b=int(input(\"enter num: \"))\n",
    "option=int(input(\"enter 1 to add or 2 to subtract: \"))\n",
    "if option==1:\n",
    "    print(a+b)\n",
    "if option==2:\n",
    "    print(a-b)\n",
    "else:\n",
    "    exit()"
   ]
  },
  {
   "cell_type": "markdown",
   "id": "0ca876eb",
   "metadata": {},
   "source": [
    "## Exercise 4"
   ]
  },
  {
   "cell_type": "code",
   "execution_count": 3,
   "id": "1e8d15c7",
   "metadata": {},
   "outputs": [
    {
     "name": "stdout",
     "output_type": "stream",
     "text": [
      "Hello, Mrs. Guido Van Rossum, Nice to meet you\n"
     ]
    }
   ],
   "source": [
    "firstName=\"Guido\"\n",
    "lastName=\"Van Rossum\"\n",
    "sex='m'\n",
    "if sex=='m':\n",
    "    title='Mr.'\n",
    "else:\n",
    "    title='Mrs.'\n",
    "print(f\"Hello, {title} {firstName} {lastName}, Nice to meet you\")    \n",
    "\n",
    "    \n"
   ]
  },
  {
   "cell_type": "markdown",
   "id": "42aa4ba8",
   "metadata": {},
   "source": [
    "## Exercise 5"
   ]
  },
  {
   "cell_type": "code",
   "execution_count": 8,
   "id": "8df6093e",
   "metadata": {},
   "outputs": [
    {
     "name": "stdout",
     "output_type": "stream",
     "text": [
      "enter num: -222\n",
      "222\n"
     ]
    }
   ],
   "source": [
    "num=int(input(\"enter num: \"))\n",
    "if num<0:\n",
    "    print(-(num))\n",
    "else:\n",
    "    print(num)"
   ]
  },
  {
   "cell_type": "markdown",
   "id": "9e2c3590",
   "metadata": {},
   "source": [
    "## Exercise 6"
   ]
  },
  {
   "cell_type": "code",
   "execution_count": 13,
   "id": "728fcfab",
   "metadata": {},
   "outputs": [
    {
     "name": "stdout",
     "output_type": "stream",
     "text": [
      "enter num: 23\n",
      "23 is odd\n"
     ]
    }
   ],
   "source": [
    "num=int(input(\"enter num: \"))\n",
    "if num%2==0:\n",
    "    print(f\"{num} is even\")\n",
    "else:\n",
    "    print(f\"{num} is odd\")\n"
   ]
  },
  {
   "cell_type": "markdown",
   "id": "631e493d",
   "metadata": {},
   "source": [
    "## Exercise 7"
   ]
  },
  {
   "cell_type": "code",
   "execution_count": 18,
   "id": "e067695a",
   "metadata": {},
   "outputs": [
    {
     "name": "stdout",
     "output_type": "stream",
     "text": [
      "enter num: d\n"
     ]
    },
    {
     "ename": "ValueError",
     "evalue": "invalid literal for int() with base 10: 'd'",
     "output_type": "error",
     "traceback": [
      "\u001b[0;31m---------------------------------------------------------------------------\u001b[0m",
      "\u001b[0;31mValueError\u001b[0m                                Traceback (most recent call last)",
      "\u001b[0;32m/tmp/ipykernel_43801/4031860837.py\u001b[0m in \u001b[0;36m<module>\u001b[0;34m\u001b[0m\n\u001b[0;32m----> 1\u001b[0;31m \u001b[0mn\u001b[0m\u001b[0;34m=\u001b[0m\u001b[0mint\u001b[0m\u001b[0;34m(\u001b[0m\u001b[0minput\u001b[0m\u001b[0;34m(\u001b[0m\u001b[0;34m\"enter num: \"\u001b[0m\u001b[0;34m)\u001b[0m\u001b[0;34m)\u001b[0m\u001b[0;34m\u001b[0m\u001b[0;34m\u001b[0m\u001b[0m\n\u001b[0m\u001b[1;32m      2\u001b[0m \u001b[0;34m\u001b[0m\u001b[0m\n\u001b[1;32m      3\u001b[0m \u001b[0;32mif\u001b[0m \u001b[0mn\u001b[0m\u001b[0;34m>\u001b[0m\u001b[0;36m0\u001b[0m\u001b[0;34m:\u001b[0m\u001b[0;34m\u001b[0m\u001b[0;34m\u001b[0m\u001b[0m\n\u001b[1;32m      4\u001b[0m     \u001b[0mprint\u001b[0m\u001b[0;34m(\u001b[0m\u001b[0;34mf\"{n} is a positive number\"\u001b[0m\u001b[0;34m)\u001b[0m\u001b[0;34m\u001b[0m\u001b[0;34m\u001b[0m\u001b[0m\n\u001b[1;32m      5\u001b[0m \u001b[0;32melse\u001b[0m\u001b[0;34m:\u001b[0m\u001b[0;34m\u001b[0m\u001b[0;34m\u001b[0m\u001b[0m\n",
      "\u001b[0;31mValueError\u001b[0m: invalid literal for int() with base 10: 'd'"
     ]
    }
   ],
   "source": [
    "n=int(input(\"enter num: \"))\n",
    "\n",
    "if n>0:\n",
    "    print(f\"{n} is a positive number\")\n",
    "else:\n",
    "    if n==0:\n",
    "        print(f\"{n} is zero\")\n",
    "    if n<0:\n",
    "        print(f\"{n} is negative\")\n"
   ]
  },
  {
   "cell_type": "markdown",
   "id": "a54e9da4",
   "metadata": {},
   "source": [
    "## Exercise 8"
   ]
  },
  {
   "cell_type": "code",
   "execution_count": 26,
   "id": "8ed4036a",
   "metadata": {},
   "outputs": [
    {
     "name": "stdout",
     "output_type": "stream",
     "text": [
      "A Won\n"
     ]
    }
   ],
   "source": [
    "A=1\n",
    "B=0\n",
    "\n",
    "if A>B:\n",
    "    print(\"A Won\")\n",
    "else:\n",
    "    if B>A:\n",
    "        print(\"B Won\")\n",
    "    else:\n",
    "        print(\"Deuce\")"
   ]
  },
  {
   "cell_type": "markdown",
   "id": "73a44bfa",
   "metadata": {},
   "source": [
    "## Exercise 9"
   ]
  },
  {
   "cell_type": "code",
   "execution_count": null,
   "id": "5b9c719a",
   "metadata": {},
   "outputs": [],
   "source": [
    "completed=0\n",
    "grade=80\n",
    "\n",
    "if completed==1:\n",
    "    if grade>=60:\n",
    "        print(\"pass\")\n",
    "    else:\n",
    "        print(\"fail\")\n",
    "else:\n",
    "    print(\"fail\")\n",
    "# try also: if completed==1 and grade>=60        "
   ]
  },
  {
   "cell_type": "markdown",
   "id": "8ddeaad3",
   "metadata": {},
   "source": [
    "## Exercise 13"
   ]
  },
  {
   "cell_type": "code",
   "execution_count": 30,
   "id": "43741eb3",
   "metadata": {},
   "outputs": [
    {
     "name": "stdout",
     "output_type": "stream",
     "text": [
      "10 is positive and even\n"
     ]
    }
   ],
   "source": [
    "n=10\n",
    "\n",
    "if n>0 and n%2==0:\n",
    "    print(f\"{n} is positive and even\")\n"
   ]
  },
  {
   "cell_type": "markdown",
   "id": "26ff2f46",
   "metadata": {},
   "source": [
    "## Exercise 14"
   ]
  },
  {
   "cell_type": "code",
   "execution_count": 36,
   "id": "814b1fc4",
   "metadata": {},
   "outputs": [
    {
     "name": "stdout",
     "output_type": "stream",
     "text": [
      "99.999 is between 0 and 100\n"
     ]
    }
   ],
   "source": [
    "n=99.999\n",
    "\n",
    "if 0<=n<=100:\n",
    "    print(f\"{n} is between 0 and 100\")\n"
   ]
  },
  {
   "cell_type": "markdown",
   "id": "9dd674d3",
   "metadata": {},
   "source": [
    "## Exercise 15"
   ]
  },
  {
   "cell_type": "code",
   "execution_count": 40,
   "id": "a3086eab",
   "metadata": {},
   "outputs": [
    {
     "name": "stdout",
     "output_type": "stream",
     "text": [
      "23 has two digits\n"
     ]
    }
   ],
   "source": [
    "n=23\n",
    "\n",
    "if 10<=n<99:\n",
    "    print(f\"{n} has two digits\")"
   ]
  },
  {
   "cell_type": "markdown",
   "id": "8f1c51fc",
   "metadata": {},
   "source": [
    "## Exercise 16"
   ]
  },
  {
   "cell_type": "code",
   "execution_count": 44,
   "id": "187437b1",
   "metadata": {},
   "outputs": [
    {
     "name": "stdout",
     "output_type": "stream",
     "text": [
      "The premium is 85.0\n"
     ]
    }
   ],
   "source": [
    "length=10\n",
    "num=2\n",
    "premium=100\n",
    "\n",
    "if length>5 and num<=10:\n",
    "    premium=premium*0.85\n",
    "\n",
    "print(f\"The premium is {premium}\")"
   ]
  },
  {
   "cell_type": "markdown",
   "id": "a27d4d79",
   "metadata": {},
   "source": [
    "## Exercise 17"
   ]
  },
  {
   "cell_type": "code",
   "execution_count": 45,
   "id": "2460bb01",
   "metadata": {},
   "outputs": [
    {
     "name": "stdout",
     "output_type": "stream",
     "text": [
      "The premium is 85.0\n"
     ]
    }
   ],
   "source": [
    "length=1\n",
    "num=2\n",
    "premium=100\n",
    "\n",
    "if length>5 or num<=10:\n",
    "    premium=premium*0.85\n",
    "\n",
    "print(f\"The premium is {premium}\")"
   ]
  },
  {
   "cell_type": "markdown",
   "id": "43c391f4",
   "metadata": {},
   "source": [
    "## Exercise 20"
   ]
  },
  {
   "cell_type": "code",
   "execution_count": null,
   "id": "38f3bc0e",
   "metadata": {},
   "outputs": [],
   "source": [
    "# input\n",
    "valueOfMerchYear=10000\n",
    "paidOnTime=0\n",
    "numOfYears=6\n",
    "custName=\"johnbryce\"\n",
    "\n",
    "def checkPreferred(value, paid, years):\n",
    "    if paid==1:\n",
    "        return True\n",
    "    if value>8000 and years>5:\n",
    "        return True\n",
    "    return False # optional\n",
    "\n",
    "if checkPreferred(valueOfMerchYear, paidOnTime, numOfYears):\n",
    "    print(f\"customer {custName} is preferred\")\n",
    "        \n",
    "\n",
    "    \n",
    "    \n",
    "    \n",
    "    \n",
    "\n"
   ]
  }
 ],
 "metadata": {
  "kernelspec": {
   "display_name": "Python 3 (ipykernel)",
   "language": "python",
   "name": "python3"
  },
  "language_info": {
   "codemirror_mode": {
    "name": "ipython",
    "version": 3
   },
   "file_extension": ".py",
   "mimetype": "text/x-python",
   "name": "python",
   "nbconvert_exporter": "python",
   "pygments_lexer": "ipython3",
   "version": "3.10.4"
  }
 },
 "nbformat": 4,
 "nbformat_minor": 5
}
