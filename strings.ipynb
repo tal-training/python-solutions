{
 "cells": [
  {
   "cell_type": "markdown",
   "id": "c1d49eef",
   "metadata": {},
   "source": [
    "## Exercise 2"
   ]
  },
  {
   "cell_type": "code",
   "execution_count": 4,
   "id": "fd098375",
   "metadata": {},
   "outputs": [
    {
     "name": "stdout",
     "output_type": "stream",
     "text": [
      "MY STRING my string Mg My My My My \n"
     ]
    }
   ],
   "source": [
    "s=\"My String\"\n",
    "print(s.upper(), s.lower(), s[::len(s)-1], s[0:3]*4)\n"
   ]
  },
  {
   "cell_type": "markdown",
   "id": "ea000c77",
   "metadata": {},
   "source": [
    "## Exercise 4"
   ]
  },
  {
   "cell_type": "code",
   "execution_count": 13,
   "id": "27be4857",
   "metadata": {},
   "outputs": [
    {
     "name": "stdout",
     "output_type": "stream",
     "text": [
      "soR naV odi"
     ]
    }
   ],
   "source": [
    "s=\"Guido Van Rossum\"\n",
    "\n",
    "i,j=2,13\n",
    "for c in reversed(range(i, j)):\n",
    "    print(s[c], end='')"
   ]
  },
  {
   "cell_type": "markdown",
   "id": "3ab4df24",
   "metadata": {},
   "source": [
    "## Exercise 5 \n",
    "Run this outside of Jupyter with command line arguments"
   ]
  },
  {
   "cell_type": "code",
   "execution_count": 15,
   "id": "7c46e180",
   "metadata": {},
   "outputs": [
    {
     "name": "stdout",
     "output_type": "stream",
     "text": [
      "-f:/home/tal/.local/share/jupyter/runtime/kernel-c2184fee-e2cb-42f5-bea4-e7280dbf5db3.json\n"
     ]
    }
   ],
   "source": [
    "import sys\n",
    "\n",
    "if len(sys.argv)<=2:\n",
    "    print(\"error\")\n",
    "\n",
    "print(f\"{sys.argv[1]}:{sys.argv[2]}\")\n"
   ]
  },
  {
   "cell_type": "markdown",
   "id": "4d0204d2",
   "metadata": {},
   "source": [
    "## Exercise 7\n",
    "Run this outside of Jupyter with command line arguments"
   ]
  },
  {
   "cell_type": "code",
   "execution_count": null,
   "id": "0624fdeb",
   "metadata": {},
   "outputs": [],
   "source": [
    "import sys\n",
    "\n",
    "if len(sys.argv)<=1:\n",
    "    print(\"error\")\n",
    "    return -1\n",
    "\n",
    "s=sys.argv[1]\n",
    "\n",
    "print(s.replace('T', 'U').replace('t', 'U'))\n"
   ]
  },
  {
   "cell_type": "markdown",
   "id": "5d7c6b7c",
   "metadata": {},
   "source": [
    "## Exercise 8\n",
    "Run this outside of Jupyter with command line arguments"
   ]
  },
  {
   "cell_type": "code",
   "execution_count": null,
   "id": "11cf90c9",
   "metadata": {},
   "outputs": [],
   "source": [
    "import sys\n",
    "\n",
    "if len(sys.argv)<=1:\n",
    "    print(\"error\")\n",
    "    return -1\n",
    "\n",
    "s=sys.argv[1]\n",
    "\n",
    "s=s.upper()\n",
    "\n",
    "print(s[0:3])\n",
    "print(s[3:6])\n",
    "print(s[6:9])\n"
   ]
  }
 ],
 "metadata": {
  "kernelspec": {
   "display_name": "Python 3 (ipykernel)",
   "language": "python",
   "name": "python3"
  },
  "language_info": {
   "codemirror_mode": {
    "name": "ipython",
    "version": 3
   },
   "file_extension": ".py",
   "mimetype": "text/x-python",
   "name": "python",
   "nbconvert_exporter": "python",
   "pygments_lexer": "ipython3",
   "version": "3.10.4"
  }
 },
 "nbformat": 4,
 "nbformat_minor": 5
}
