{
 "cells": [
  {
   "cell_type": "markdown",
   "id": "ce827730",
   "metadata": {},
   "source": [
    "הכנה למשימת כיתה ###"
   ]
  },
  {
   "cell_type": "markdown",
   "id": "5cbd2d6e",
   "metadata": {},
   "source": [
    "### פתיחת קובץ וקריאת שורות לתוך רשימה"
   ]
  },
  {
   "cell_type": "code",
   "execution_count": 20,
   "id": "b9e6417c",
   "metadata": {},
   "outputs": [
    {
     "name": "stdout",
     "output_type": "stream",
     "text": [
      "['user, grade\\n', 'tal,100\\n', 'dave,90\\n', 'danny,85\\n', 'shmuel,70\\n', 'anna,95\\n', 'lora,100\\n', 'mickey,80\\n', 'moshe,98\\n', 'מזל,90\\n']\n"
     ]
    }
   ],
   "source": [
    "f=open(\"grades.csv\")\n",
    "listOfStrings=f.readlines()\n",
    "print(listOfStrings)\n"
   ]
  },
  {
   "cell_type": "markdown",
   "id": "a4353980",
   "metadata": {},
   "source": [
    "###   \\n הסרה מהנתונים"
   ]
  },
  {
   "cell_type": "code",
   "execution_count": 29,
   "id": "912682db",
   "metadata": {},
   "outputs": [
    {
     "name": "stdout",
     "output_type": "stream",
     "text": [
      "user, grade\n",
      "tal,100\n",
      "dave,90\n",
      "danny,85\n",
      "shmuel,70\n",
      "anna,95\n",
      "lora,100\n",
      "mickey,80\n",
      "moshe,98\n",
      "מזל,90\n"
     ]
    }
   ],
   "source": [
    "f=open(\"grades.csv\")\n",
    "listOfStrings=f.readlines()\n",
    "for l in listOfStrings:\n",
    "    l=l.strip('\\n')\n",
    "    print(l)\n"
   ]
  },
  {
   "cell_type": "markdown",
   "id": "b43836d4",
   "metadata": {},
   "source": [
    "### יצירת זוגות של תלמידים וציונים"
   ]
  },
  {
   "cell_type": "code",
   "execution_count": 31,
   "id": "53208d2b",
   "metadata": {},
   "outputs": [
    {
     "name": "stdout",
     "output_type": "stream",
     "text": [
      "['user', ' grade']\n",
      "['tal', '100']\n",
      "['dave', '90']\n",
      "['danny', '85']\n",
      "['shmuel', '70']\n",
      "['anna', '95']\n",
      "['lora', '100']\n",
      "['mickey', '80']\n",
      "['moshe', '98']\n",
      "['מזל', '90']\n"
     ]
    }
   ],
   "source": [
    "f=open(\"grades.csv\")\n",
    "listOfStrings=f.readlines()\n",
    "for l in listOfStrings:\n",
    "    l=l.strip('\\n')\n",
    "    pair=l.split(',')\n",
    "    print(pair)\n"
   ]
  },
  {
   "cell_type": "markdown",
   "id": "e56cf0b2",
   "metadata": {},
   "source": [
    "### חילוץ של ציונים מתוך זוגות"
   ]
  },
  {
   "cell_type": "code",
   "execution_count": 32,
   "id": "10dbd650",
   "metadata": {},
   "outputs": [
    {
     "name": "stdout",
     "output_type": "stream",
     "text": [
      " grade\n",
      "100\n",
      "90\n",
      "85\n",
      "70\n",
      "95\n",
      "100\n",
      "80\n",
      "98\n",
      "90\n"
     ]
    }
   ],
   "source": [
    "f=open(\"grades.csv\")\n",
    "listOfStrings=f.readlines()\n",
    "for l in listOfStrings:\n",
    "    l=l.strip('\\n')\n",
    "    pair=l.split(',')\n",
    "    print(pair[1])\n"
   ]
  },
  {
   "cell_type": "markdown",
   "id": "0dab74a0",
   "metadata": {},
   "source": [
    "### לא צריך את השורה הראשונה"
   ]
  },
  {
   "cell_type": "code",
   "execution_count": 33,
   "id": "cd050576",
   "metadata": {},
   "outputs": [
    {
     "name": "stdout",
     "output_type": "stream",
     "text": [
      "100\n",
      "90\n",
      "85\n",
      "70\n",
      "95\n",
      "100\n",
      "80\n",
      "98\n",
      "90\n"
     ]
    }
   ],
   "source": [
    "f=open(\"grades.csv\")\n",
    "listOfStrings=f.readlines()\n",
    "for l in listOfStrings[1:]:\n",
    "    l=l.strip('\\n')\n",
    "    pair=l.split(',')\n",
    "    print(pair[1])\n"
   ]
  },
  {
   "cell_type": "markdown",
   "id": "2385aeb5",
   "metadata": {},
   "source": [
    "### יצירת רשימה של ציונים"
   ]
  },
  {
   "cell_type": "code",
   "execution_count": 40,
   "id": "c3a90f3c",
   "metadata": {},
   "outputs": [
    {
     "name": "stdout",
     "output_type": "stream",
     "text": [
      "[100, 90, 85, 70, 95, 100, 80, 98, 90]\n"
     ]
    }
   ],
   "source": [
    "grades=[]\n",
    "f=open(\"grades.csv\")\n",
    "listOfStrings=f.readlines()\n",
    "for l in listOfStrings[1:]:\n",
    "    l=l.strip('\\n')\n",
    "    pair=l.split(',')\n",
    "    grades.append(int(pair[1])) # pay attention to the conversion to int!\n",
    "print(grades)\n"
   ]
  },
  {
   "cell_type": "markdown",
   "id": "4bbe3861",
   "metadata": {},
   "source": [
    "### בניית פונקציה"
   ]
  },
  {
   "cell_type": "code",
   "execution_count": 42,
   "id": "ac1e1d80",
   "metadata": {},
   "outputs": [
    {
     "data": {
      "text/plain": [
       "[100, 90, 85, 70, 95, 100, 80, 98, 90]"
      ]
     },
     "execution_count": 42,
     "metadata": {},
     "output_type": "execute_result"
    }
   ],
   "source": [
    "def getGradesList():\n",
    "    grades=[]\n",
    "    f=open(\"grades.csv\")\n",
    "    listOfStrings=f.readlines()\n",
    "    for l in listOfStrings[1:]:\n",
    "        l=l.strip('\\n')\n",
    "        pair=l.split(',')\n",
    "        grades.append(int(pair[1]))\n",
    "    return grades\n",
    "\n",
    "getGradesList()\n"
   ]
  },
  {
   "cell_type": "markdown",
   "id": "146820af",
   "metadata": {},
   "source": [
    "### שימוש בנתונים"
   ]
  },
  {
   "cell_type": "code",
   "execution_count": 62,
   "id": "1b689982",
   "metadata": {},
   "outputs": [
    {
     "name": "stdout",
     "output_type": "stream",
     "text": [
      "100\n",
      "70\n"
     ]
    }
   ],
   "source": [
    "def getGradesList():\n",
    "    grades=[]\n",
    "    f=open(\"grades.csv\")\n",
    "    listOfStrings=f.readlines()\n",
    "    for l in listOfStrings[1:]:\n",
    "        l=l.strip('\\n')\n",
    "        pair=l.split(',')\n",
    "        grades.append(int(pair[1]))\n",
    "    return grades\n",
    "\n",
    "grades=getGradesList()\n",
    "maximum=max(grades)\n",
    "minimum=min(grades)\n",
    "print(maximum)\n",
    "print(minimum)"
   ]
  },
  {
   "cell_type": "markdown",
   "id": "561f6d31",
   "metadata": {},
   "source": [
    "### חציון וממוצע עם statistics"
   ]
  },
  {
   "cell_type": "code",
   "execution_count": 63,
   "id": "4c250579",
   "metadata": {},
   "outputs": [
    {
     "name": "stdout",
     "output_type": "stream",
     "text": [
      "90 89.77777777777777\n"
     ]
    }
   ],
   "source": [
    "import statistics\n",
    "\n",
    "grades=getGradesList()\n",
    "\n",
    "med=statistics.median(grades)\n",
    "avg=statistics.mean(grades)\n",
    "\n",
    "print(med,avg)"
   ]
  },
  {
   "cell_type": "markdown",
   "id": "5037797a",
   "metadata": {},
   "source": [
    "### שינוי פונקצייה להחזיר רשימת תלמידים"
   ]
  },
  {
   "cell_type": "code",
   "execution_count": 49,
   "id": "eb3969eb",
   "metadata": {},
   "outputs": [
    {
     "name": "stdout",
     "output_type": "stream",
     "text": [
      "['tal', 'dave', 'danny', 'shmuel', 'anna', 'lora', 'mickey', 'moshe', 'מזל']\n"
     ]
    }
   ],
   "source": [
    "def getStudentList():\n",
    "    students=[]\n",
    "    f=open(\"grades.csv\")\n",
    "    listOfStrings=f.readlines()\n",
    "    for l in listOfStrings[1:]:\n",
    "        l=l.strip('\\n')\n",
    "        pair=l.split(',')\n",
    "        students.append(pair[0]) # why no need to convert to int?\n",
    "    return students\n",
    "\n",
    "students=getStudentList()\n",
    "print(students)"
   ]
  },
  {
   "cell_type": "markdown",
   "id": "4935e7f9",
   "metadata": {},
   "source": [
    "### שינוי פונקצייה להחזיר רשימת כיתות מקובץ אחר"
   ]
  },
  {
   "cell_type": "code",
   "execution_count": 52,
   "id": "f40f0843",
   "metadata": {},
   "outputs": [
    {
     "name": "stdout",
     "output_type": "stream",
     "text": [
      "['A', 'B', 'B', 'C', 'C', 'A', 'C', 'B', 'A']\n"
     ]
    }
   ],
   "source": [
    "def getClassList():\n",
    "    classes=[]\n",
    "    f=open(\"grades2.csv\")\n",
    "    listOfStrings=f.readlines()\n",
    "    for l in listOfStrings[1:]:\n",
    "        l=l.strip('\\n')\n",
    "        pair=l.split(',')\n",
    "        classes.append(pair[1]) \n",
    "    return classes\n",
    "\n",
    "classes=getClassList()\n",
    "print(classes)"
   ]
  },
  {
   "cell_type": "markdown",
   "id": "3166d72f",
   "metadata": {},
   "source": [
    "### שימוש בנתונים"
   ]
  },
  {
   "cell_type": "code",
   "execution_count": 58,
   "id": "bb42823a",
   "metadata": {},
   "outputs": [
    {
     "name": "stdout",
     "output_type": "stream",
     "text": [
      "4 3 2\n"
     ]
    }
   ],
   "source": [
    "def getClassList():\n",
    "    classes=[]\n",
    "    f=open(\"grades2.csv\")\n",
    "    listOfStrings=f.readlines()\n",
    "    for l in listOfStrings[1:]:\n",
    "        l=l.strip('\\n')\n",
    "        pair=l.split(',')\n",
    "        classes.append(pair[1]) \n",
    "    return classes\n",
    "\n",
    "classes=getClassList()\n",
    "numA=classes.count('A')\n",
    "numB=classes.count('B')\n",
    "numC=classes.count('C')\n",
    "print(numA, numB, numC)"
   ]
  },
  {
   "cell_type": "markdown",
   "id": "95f69946",
   "metadata": {},
   "source": [
    "### כמה סוגי כיתות יש?"
   ]
  },
  {
   "cell_type": "code",
   "execution_count": 59,
   "id": "4600a2c4",
   "metadata": {},
   "outputs": [
    {
     "name": "stdout",
     "output_type": "stream",
     "text": [
      "3\n"
     ]
    }
   ],
   "source": [
    "classes=getClassList()\n",
    "\n",
    "classesSet=set(classes)\n",
    "\n",
    "print(len(classesSet))"
   ]
  },
  {
   "cell_type": "markdown",
   "id": "5006e591",
   "metadata": {},
   "source": [
    "### ממוצע ציוני תלמידים בכיתה מסויימת"
   ]
  }
 ],
 "metadata": {
  "kernelspec": {
   "display_name": "Python 3 (ipykernel)",
   "language": "python",
   "name": "python3"
  },
  "language_info": {
   "codemirror_mode": {
    "name": "ipython",
    "version": 3
   },
   "file_extension": ".py",
   "mimetype": "text/x-python",
   "name": "python",
   "nbconvert_exporter": "python",
   "pygments_lexer": "ipython3",
   "version": "3.10.4"
  }
 },
 "nbformat": 4,
 "nbformat_minor": 5
}
