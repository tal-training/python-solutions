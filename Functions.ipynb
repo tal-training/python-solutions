{
 "cells": [
  {
   "cell_type": "markdown",
   "id": "d2a928ef",
   "metadata": {},
   "source": [
    "## Exercise 1"
   ]
  },
  {
   "cell_type": "code",
   "execution_count": 2,
   "id": "aabf1d62",
   "metadata": {},
   "outputs": [
    {
     "name": "stdout",
     "output_type": "stream",
     "text": [
      "False\n"
     ]
    }
   ],
   "source": [
    "def isEven(num):\n",
    "    return num%2==0\n",
    "\n",
    "n=3\n",
    "print(isEven(n))"
   ]
  },
  {
   "cell_type": "markdown",
   "id": "2ef3f13f",
   "metadata": {},
   "source": [
    "## Exercise 2"
   ]
  },
  {
   "cell_type": "code",
   "execution_count": 5,
   "id": "554416fc",
   "metadata": {},
   "outputs": [
    {
     "name": "stdout",
     "output_type": "stream",
     "text": [
      "how many nums: 3\n",
      "enter num: 1\n",
      "enter num: 2\n",
      "enter num: 3\n",
      "The average is 2.0\n"
     ]
    }
   ],
   "source": [
    "\n",
    "def avg(n):\n",
    "    sum=0\n",
    "    for i in range(n):\n",
    "        sum+=float(input(\"enter num: \"))\n",
    "    return round(sum/n,2)\n",
    "\n",
    "a=avg(int(input(\"how many nums: \")))\n",
    "print(f\"The average is {a}\")    "
   ]
  },
  {
   "cell_type": "markdown",
   "id": "cd527b76",
   "metadata": {},
   "source": [
    "## Exercise 3"
   ]
  },
  {
   "cell_type": "code",
   "execution_count": 20,
   "id": "d7dcfeb7",
   "metadata": {},
   "outputs": [
    {
     "name": "stdout",
     "output_type": "stream",
     "text": [
      "enter num: 22\n",
      "2\n",
      "enter num: 333\n",
      "3\n",
      "enter num: -999\n"
     ]
    }
   ],
   "source": [
    "def digNum(n):\n",
    "    i=1\n",
    "    while(n>=10):\n",
    "        n=n//10\n",
    "        i+=1\n",
    "    return i\n",
    "\n",
    "n=1000\n",
    "\n",
    "while True:\n",
    "    n=int(input(\"enter num: \"))\n",
    "    if n!=-999:\n",
    "        print(digNum(n))\n",
    "    else:\n",
    "        break\n",
    "\n",
    "    \n",
    "        "
   ]
  },
  {
   "cell_type": "markdown",
   "id": "0d4504b4",
   "metadata": {},
   "source": [
    "## Exercise 4"
   ]
  },
  {
   "cell_type": "code",
   "execution_count": 87,
   "id": "1d83b2eb",
   "metadata": {},
   "outputs": [
    {
     "name": "stdout",
     "output_type": "stream",
     "text": [
      "Using calChange:\n",
      "twenties=3\n",
      "tens=1\n",
      "fives=1\n",
      "ones=2\n",
      "\n",
      "\n",
      "Using calChangeRecursive:\n",
      "'20'=3\n",
      "'10'=1\n",
      "'5'=1\n",
      "'1'=2\n"
     ]
    }
   ],
   "source": [
    "# option 1\n",
    "def calChange(change):\n",
    "    tw=change//20\n",
    "    change=change%20\n",
    "    te=change//10\n",
    "    change=change%10\n",
    "    fv=change//5\n",
    "    change=change%5\n",
    "    return (tw,te,fv,change)\n",
    "\n",
    "#option 2\n",
    "def calChangeRecursive(change, bill, results):\n",
    "    if change<5:\n",
    "        results.append(('1',int(change)))\n",
    "        return results\n",
    "    billNum=change//bill\n",
    "    change=change%bill\n",
    "    results.append((str(int(bill)),int(billNum)))\n",
    "    bill=bill/2\n",
    "    return calChangeRecursive(change, bill,results)\n",
    "\n",
    "tw,te,fv,on=calChange(77)\n",
    "\n",
    "print(\"Using calChange:\",f\"twenties={int(tw)}\",f\"tens={int(te)}\",f\"fives={int(fv)}\",f\"ones={int(on)}\\n\\n\",sep='\\n')\n",
    "\n",
    "highBill=20\n",
    "amount=77\n",
    "\n",
    "print(\"Using calChangeRecursive:\")\n",
    "for i in calChangeRecursive(amount, highBill, []):\n",
    "    print(f\"'{i[0]}'={i[1]}\")\n",
    "\n"
   ]
  },
  {
   "cell_type": "markdown",
   "id": "a15ca475",
   "metadata": {},
   "source": [
    "## Exercise 5"
   ]
  },
  {
   "cell_type": "code",
   "execution_count": 108,
   "id": "091968f5",
   "metadata": {},
   "outputs": [
    {
     "name": "stdout",
     "output_type": "stream",
     "text": [
      "1000\n",
      "ok\n",
      "ok\n",
      "ok\n",
      "ok\n",
      "ok\n",
      "ok\n",
      "ok\n",
      "ok\n",
      "ok\n",
      "ok\n"
     ]
    }
   ],
   "source": [
    "def powPow(num, exp):\n",
    "    res=1\n",
    "    for e in range(exp):\n",
    "        res*=num\n",
    "    return res\n",
    "\n",
    "print(powPow(10,3))\n",
    "\n",
    "\n",
    "# Example of testing function:\n",
    "def testPow(num, exp):\n",
    "    a=powPow(num,exp)\n",
    "    b=pow(num, exp)\n",
    "    if a!=b:\n",
    "        print(f\"fail on {num} {exp}\")\n",
    "    else:\n",
    "        return \"ok\"\n",
    "        \n",
    "for i in range(10):\n",
    "    print(testPow(i,i))\n",
    "    \n",
    "    \n"
   ]
  },
  {
   "cell_type": "markdown",
   "id": "aaad2d43",
   "metadata": {},
   "source": [
    "## Exercise 6"
   ]
  },
  {
   "cell_type": "code",
   "execution_count": 118,
   "id": "d62d13c8",
   "metadata": {},
   "outputs": [
    {
     "data": {
      "text/plain": [
       "199.8"
      ]
     },
     "execution_count": 118,
     "metadata": {},
     "output_type": "execute_result"
    }
   ],
   "source": [
    "def askDiscount(price):\n",
    "    discount=int(input(f\"What is the discount on {price}? \"))\n",
    "    return round(price-(price*(discount/100)),2)\n",
    "\n",
    "def checkPrice(price):\n",
    "    if price>1000:\n",
    "        return askDiscount(price)\n",
    "    else:\n",
    "        return price*0.90\n",
    "\n",
    "checkPrice(1222)\n",
    "\n"
   ]
  }
 ],
 "metadata": {
  "kernelspec": {
   "display_name": "Python 3 (ipykernel)",
   "language": "python",
   "name": "python3"
  },
  "language_info": {
   "codemirror_mode": {
    "name": "ipython",
    "version": 3
   },
   "file_extension": ".py",
   "mimetype": "text/x-python",
   "name": "python",
   "nbconvert_exporter": "python",
   "pygments_lexer": "ipython3",
   "version": "3.10.4"
  }
 },
 "nbformat": 4,
 "nbformat_minor": 5
}
